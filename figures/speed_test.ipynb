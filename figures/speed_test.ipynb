{
 "cells": [
  {
   "cell_type": "code",
   "execution_count": 1,
   "metadata": {
    "ExecuteTime": {
     "end_time": "2020-07-07T09:10:11.074926Z",
     "start_time": "2020-07-07T09:10:10.003575Z"
    }
   },
   "outputs": [],
   "source": [
    "from time import time\n",
    "\n",
    "from tqdm import tqdm\n",
    "import matplotlib.pyplot as plt\n",
    "import seaborn as sns\n",
    "import numpy as np\n",
    "import pandas as pd\n",
    "\n",
    "from clustering import kmeanspp, VoseAlias"
   ]
  },
  {
   "cell_type": "code",
   "execution_count": 2,
   "metadata": {
    "ExecuteTime": {
     "end_time": "2020-07-07T09:10:11.083897Z",
     "start_time": "2020-07-07T09:10:11.076513Z"
    }
   },
   "outputs": [],
   "source": [
    "class Chrono:\n",
    "    def __init__(self):\n",
    "        self.t = time()\n",
    "    \n",
    "    def reset(self):\n",
    "        self.t = time()\n",
    "    \n",
    "    def elapsed(self):\n",
    "        return time() - self.t\n",
    "    \n",
    "chrono = Chrono()"
   ]
  },
  {
   "cell_type": "markdown",
   "metadata": {},
   "source": [
    "# Speed comparisons"
   ]
  },
  {
   "cell_type": "markdown",
   "metadata": {},
   "source": [
    "## Sampling speed\n",
    "\n",
    "Comparing the speed of Vose Alias' sampling with numpy's `choice` method. "
   ]
  },
  {
   "cell_type": "code",
   "execution_count": 160,
   "metadata": {
    "ExecuteTime": {
     "end_time": "2020-07-03T14:08:56.039453Z",
     "start_time": "2020-07-03T14:08:56.022214Z"
    }
   },
   "outputs": [],
   "source": [
    "n_runs = 10\n",
    "ns_to_test = np.unique(np.logspace(0, 7, 10).astype('int32'))\n",
    "\n",
    "result = {'numpy': np.zeros((ns_to_test.size, n_runs)),\n",
    "          'vose': np.zeros((ns_to_test.size, n_runs))}"
   ]
  },
  {
   "cell_type": "code",
   "execution_count": 161,
   "metadata": {
    "ExecuteTime": {
     "end_time": "2020-07-03T14:11:09.504031Z",
     "start_time": "2020-07-03T14:08:56.381856Z"
    }
   },
   "outputs": [
    {
     "name": "stderr",
     "output_type": "stream",
     "text": [
      "100%|██████████| 10/10 [02:13<00:00, 13.31s/it]\n"
     ]
    }
   ],
   "source": [
    "for i, n in tqdm(enumerate(ns_to_test), total=len(ns_to_test)):\n",
    "    for j in range(n_runs):\n",
    "        w = np.random.random_sample(n)\n",
    "        w = w.astype('float32') # Fair comparison\n",
    "        w = w / w.sum()\n",
    "        \n",
    "        chrono.reset()\n",
    "        sampler = VoseAlias(w)\n",
    "        sampler.sample(n)\n",
    "        result['vose'][i, j] = chrono.elapsed()\n",
    "        \n",
    "        chrono.reset()\n",
    "        np.random.choice(n, size=n, p=w)\n",
    "        result['numpy'][i, j] = chrono.elapsed()"
   ]
  },
  {
   "cell_type": "code",
   "execution_count": 162,
   "metadata": {
    "ExecuteTime": {
     "end_time": "2020-07-03T14:11:13.187665Z",
     "start_time": "2020-07-03T14:11:09.516951Z"
    }
   },
   "outputs": [
    {
     "data": {
      "text/plain": [
       "Text(0.5, 1.0, 'Sampling $n$ samples from a $n$-sized histogram')"
      ]
     },
     "execution_count": 162,
     "metadata": {},
     "output_type": "execute_result"
    },
    {
     "data": {
      "image/png": "[encoded data removed]",
      "text/plain": [
       "<Figure size 432x288 with 1 Axes>"
      ]
     },
     "metadata": {
      "needs_background": "light"
     },
     "output_type": "display_data"
    }
   ],
   "source": [
    "fig, ax = plt.subplots()\n",
    "ax.set_xscale('log')\n",
    "ax.set_yscale('log')\n",
    "for k, v in result.items():\n",
    "    ax.plot(ns_to_test, np.mean(v, axis=1), label=k)\n",
    "ax.legend()\n",
    "ax.set_xlabel('$n$')\n",
    "ax.set_ylabel('$t$ (ms)')\n",
    "ax.set_title('Sampling $n$ samples from a $n$-sized histogram')"
   ]
  },
  {
   "cell_type": "markdown",
   "metadata": {},
   "source": [
    "Small improvement. Complexity should be $O(n^2)$ for numpy and $O(n)$ for Vose Alias."
   ]
  },
  {
   "cell_type": "markdown",
   "metadata": {},
   "source": [
    "## KMeans++ speed"
   ]
  },
  {
   "cell_type": "markdown",
   "metadata": {},
   "source": [
    "Comparison with Sklearn's methods. "
   ]
  },
  {
   "cell_type": "code",
   "execution_count": 3,
   "metadata": {
    "ExecuteTime": {
     "end_time": "2020-07-07T09:10:58.845484Z",
     "start_time": "2020-07-07T09:10:58.830546Z"
    }
   },
   "outputs": [],
   "source": [
    "from sklearn.cluster import KMeans"
   ]
  },
  {
   "cell_type": "code",
   "execution_count": 10,
   "metadata": {
    "ExecuteTime": {
     "end_time": "2020-07-07T09:12:34.266488Z",
     "start_time": "2020-07-07T09:12:34.248499Z"
    }
   },
   "outputs": [],
   "source": [
    "n_runs = 10\n",
    "ns_to_test = np.unique(np.logspace(0, 2, 10).astype('int32'))\n",
    "dim = 2\n",
    "\n",
    "result = {'sklearn': np.zeros((ns_to_test.size, n_runs)),\n",
    "          'ours': np.zeros((ns_to_test.size, n_runs))}"
   ]
  },
  {
   "cell_type": "code",
   "execution_count": 11,
   "metadata": {
    "ExecuteTime": {
     "end_time": "2020-07-07T09:12:36.775466Z",
     "start_time": "2020-07-07T09:12:34.809460Z"
    }
   },
   "outputs": [
    {
     "name": "stderr",
     "output_type": "stream",
     "text": [
      "100%|██████████| 9/9 [00:01<00:00,  4.65it/s]\n"
     ]
    }
   ],
   "source": [
    "for i, n in tqdm(enumerate(ns_to_test), total=len(ns_to_test)):\n",
    "    for j in range(n_runs):\n",
    "        X = np.random.random_sample((n**2, dim))\n",
    "        \n",
    "        chrono.reset()\n",
    "        kmeanspp(X, n)\n",
    "        result['ours'][i, j] = chrono.elapsed()\n",
    "        \n",
    "        model = KMeans(n_clusters=n, n_init=1, max_iter=1, init='k-means++')\n",
    "        chrono.reset()\n",
    "        model.fit(X)\n",
    "        result['sklearn'][i, j] = chrono.elapsed()"
   ]
  },
  {
   "cell_type": "code",
   "execution_count": 13,
   "metadata": {
    "ExecuteTime": {
     "end_time": "2020-07-07T09:13:18.612998Z",
     "start_time": "2020-07-07T09:13:18.029620Z"
    }
   },
   "outputs": [
    {
     "data": {
      "text/plain": [
       "Text(0.5, 1.0, 'KMeans++ with $n$ centroids on an $n^2$-sized point cloud')"
      ]
     },
     "execution_count": 13,
     "metadata": {},
     "output_type": "execute_result"
    },
    {
     "data": {
      "image/png": "[encoded data removed]",
      "text/plain": [
       "<Figure size 432x288 with 1 Axes>"
      ]
     },
     "metadata": {
      "needs_background": "light"
     },
     "output_type": "display_data"
    }
   ],
   "source": [
    "fig, ax = plt.subplots()\n",
    "ax.set_xscale('log')\n",
    "ax.set_yscale('log')\n",
    "for k, v in result.items():\n",
    "    ax.plot(ns_to_test, np.mean(v, axis=1), label=k)\n",
    "ax.legend()\n",
    "ax.set_xlabel('$n$')\n",
    "ax.set_ylabel('$t$ (ms)')\n",
    "ax.set_title('KMeans++ with $n$ centroids on an $n^2$-sized point cloud')"
   ]
  },
  {
   "cell_type": "markdown",
   "metadata": {},
   "source": [
    "Same theoretical complexity, but 1-2 order of magnitude faster for small values of $n$."
   ]
  },
  {
   "cell_type": "code",
   "execution_count": null,
   "metadata": {},
   "outputs": [],
   "source": []
  }
 ],
 "metadata": {
  "kernelspec": {
   "display_name": "Python 3",
   "language": "python",
   "name": "python3"
  },
  "language_info": {
   "codemirror_mode": {
    "name": "ipython",
    "version": 3
   },
   "file_extension": ".py",
   "mimetype": "text/x-python",
   "name": "python",
   "nbconvert_exporter": "python",
   "pygments_lexer": "ipython3",
   "version": "3.7.5"
  },
  "toc": {
   "base_numbering": 1,
   "nav_menu": {},
   "number_sections": true,
   "sideBar": true,
   "skip_h1_title": false,
   "title_cell": "Table of Contents",
   "title_sidebar": "Contents",
   "toc_cell": false,
   "toc_position": {},
   "toc_section_display": true,
   "toc_window_display": false
  }
 },
 "nbformat": 4,
 "nbformat_minor": 4
}
